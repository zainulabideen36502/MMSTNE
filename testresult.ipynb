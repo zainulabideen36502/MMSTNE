import os
import Metrics
import torch


from torch.utils.data import DataLoader
from traffic_dataset_v4 import LoadData  # pems04 07 08
# from traffic_dataset_v5 import LoadData # pems03

def process_graph(graph_data):
    N = graph_data.size(0)
    matrix_i = torch.eye(N, dtype=graph_data.dtype, device=graph_data.device) 
    graph_data += matrix_i 
    degree_matrix = torch.sum(graph_data, dim=-1, keepdim=False) 
    degree_matrix = degree_matrix.pow(-1) 
    degree_matrix[degree_matrix == float("inf")] = 0.
    degree_matrix = torch.diag(degree_matrix) 
    return torch.mm(degree_matrix, graph_data)  

def main():
    os.environ["CUDA_VISIBLE_DEVICES"] = "0"
    batch_size_ = 32
    data_id = 8
    num_nodes = 170 # pems03 358 pems04 307 pems07 883 pems08 170
    data_csv_file = "/data/PEMS0{}/PEMS0{}.csv".format(data_id, data_id) # path of csv file 
    data_npz_file = "/data/PEMS0{}/PEMS0{}.npz".format(data_id, data_id) # path of npz file 

    test_data = LoadData(data_path=[data_csv_file, data_npz_file],
                          num_nodes=num_nodes,
                          divide_rate=[0.8, 0.2],
                          history_length=12,
                          pre_length = 12,
                          train_mode="test"
                          )
    
    test_loader = DataLoader(test_data, batch_size=batch_size_)
    device = torch.device("cuda:0")
    graph_data = test_data[0]["graph"].to(device)
    graph_data = process_graph(graph_data)
    
    for i in range(5):
        my_net = torch.load("/STSCGNN/pems08/PEMS08_{}.pt".format(i)) # loading model
        my_net.eval() 
        with torch.no_grad(): 
            num = 0
            all_predict_value = 0
            all_y_true = 0
            for data in test_loader:
                flow_x = data["flow_x"].to(device)    # [B, N, H, D]
                B, N= flow_x.size(0), flow_x.size(1)
                flow_x = flow_x.view(B, N, -1) # [B, N, H * D] H = 6 D = 1
                predict_value = my_net(flow_x, graph_data, B, N).to(torch.device("cpu"))
                if num == 0:
                    all_predict_value = predict_value
                    all_y_true = data["flow_y"]
                else:
                    all_predict_value = torch.cat([all_predict_value, predict_value], dim=0)
                    all_y_true =torch.cat([all_y_true, data["flow_y"]], dim=0)
                
                num += 1
        mae = Metrics.masked_mae_np(test_data.recover_data(test_data.flow_norm[0],test_data.flow_norm[1],all_y_true),test_data.recover_data(test_data.flow_norm[0],test_data.flow_norm[1],all_predict_value), 0)
        rmse = Metrics.masked_rmse_np(test_data.recover_data(test_data.flow_norm[0],test_data.flow_norm[1],all_y_true),test_data.recover_data(test_data.flow_norm[0],test_data.flow_norm[1],all_predict_value), 0)
        mape = Metrics.masked_mape_np(test_data.recover_data(test_data.flow_norm[0],test_data.flow_norm[1],all_y_true),test_data.recover_data(test_data.flow_norm[0],test_data.flow_norm[1],all_predict_value), 0)
        r2 = Metrics.r2_test(test_data.recover_data(test_data.flow_norm[0],test_data.flow_norm[1],all_y_true),test_data.recover_data(test_data.flow_norm[0],test_data.flow_norm[1],all_predict_value))
        var = Metrics.explained_variance_test(test_data.recover_data(test_data.flow_norm[0],test_data.flow_norm[1],all_y_true),test_data.recover_data(test_data.flow_norm[0],test_data.flow_norm[1],all_predict_value))
        
        print("mae: {:02.4f}, rmse: {:02.4f}, mape: {:02.4f}, r2: {:02.4f}, var: {:02.4f}".format(mae, rmse, mape, r2, var)) 
    
                       
                    
if __name__ == '__main__':
    main()
 基于原始值的精度指标  mae: 17.0139, rmse: 26.5063, mape: 10.7218, r2: 0.9671, var: 0.9673
基于原始值的精度指标  mae: 17.0521, rmse: 26.3428, mape: 10.9239, r2: 0.9675, var: 0.9677
基于原始值的精度指标  mae: 17.1638, rmse: 26.6002, mape: 10.9541, r2: 0.9669, var: 0.9674
基于原始值的精度指标  mae: 17.1856, rmse: 26.7313, mape: 11.2651, r2: 0.9665, var: 0.9666
基于原始值的精度指标  mae: 17.0039, rmse: 26.6985, mape: 10.6701, r2: 0.9666, var: 0.9670
