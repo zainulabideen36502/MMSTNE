{
 "cells": [
  {
   "cell_type": "code",
   "execution_count": 12,
   "metadata": {},
   "outputs": [
    {
     "name": "stdout",
     "output_type": "stream",
     "text": [
      "基于原始值的精度指标   rmse: 26.5063, mape: 10.7218, r2: 0.9671, var: 0.9673\n",
      "基于原始值的精度指标   rmse: 26.3428, mape: 10.9239, r2: 0.9675, var: 0.9677\n",
      "基于原始值的精度指标   rmse: 26.6002, mape: 10.9541, r2: 0.9669, var: 0.9674\n",
      "基于原始值的精度指标   rmse: 26.7313, mape: 11.2651, r2: 0.9665, var: 0.9666\n",
      "基于原始值的精度指标   rmse: 26.6985, mape: 10.6701, r2: 0.9666, var: 0.9670\n"
     ]
    }
   ],
   "source": [
    "import os\n",
    "import Metrics\n",
    "import torch\n",
    "\n",
    "\n",
    "from torch.utils.data import DataLoader\n",
    "from traffic_dataset_NYCTaxi import LoadData  # NYCTaxi\n",
    "# from traffic_dataset_NYCBike import LoadData # NYCBike\n",
    "\n",
    "def process_graph(graph_data):\n",
    "    N = graph_data.size(0)\n",
    "    matrix_i = torch.eye(N, dtype=graph_data.dtype, device=graph_data.device) \n",
    "    graph_data += matrix_i \n",
    "    degree_matrix = torch.sum(graph_data, dim=-1, keepdim=False) \n",
    "    degree_matrix = degree_matrix.pow(-1) \n",
    "    degree_matrix[degree_matrix == float(\"inf\")] = 0.\n",
    "    degree_matrix = torch.diag(degree_matrix) \n",
    "    return torch.mm(degree_matrix, graph_data)  \n",
    "\n",
    "def main():\n",
    "    os.environ[\"CUDA_VISIBLE_DEVICES\"] = \"0\"\n",
    "    batch_size_ = 32\n",
    "    data_id = 8\n",
    "    num_nodes = 170 # NYC03 358 NYC04 307 NYC07 883 NYC08 170\n",
    "    data_csv_file = \"/data/NYCTaxi{}/NYCTaxi{}.csv\".format(data_id, data_id) # path of csv file \n",
    "    data_npz_file = \"/data/NYCBike{}/NYCBike{}.npz\".format(data_id, data_id) # path of npz file \n",
    "\n",
    "    test_data = LoadData(data_path=[data_csv_file, data_npz_file],\n",
    "                          num_nodes=num_nodes,\n",
    "                          divide_rate=[0.8, 0.2],\n",
    "                          history_length=12,\n",
    "                          pre_length = 12,\n",
    "                          train_mode=\"test\"\n",
    "                          )\n",
    "    \n",
    "    test_loader = DataLoader(test_data, batch_size=batch_size_)\n",
    "    device = torch.device(\"cuda:0\")\n",
    "    graph_data = test_data[0][\"graph\"].to(device)\n",
    "    graph_data = process_graph(graph_data)\n",
    "    \n",
    "    for i in range(5):\n",
    "        my_net = torch.load(\"/MMSTNE/NYCTaxi/NYCTaxi_{}.pt\".format(i)) # loading model\n",
    "        my_net.eval() \n",
    "        with torch.no_grad(): \n",
    "            num = 0\n",
    "            all_predict_value = 0\n",
    "            all_y_true = 0\n",
    "            for data in test_loader:\n",
    "                flow_x = data[\"flow_x\"].to(device)    # [B, N, H, D]\n",
    "                B, N= flow_x.size(0), flow_x.size(1)\n",
    "                flow_x = flow_x.view(B, N, -1) # [B, N, H * D] H = 6 D = 1\n",
    "                predict_value = my_net(flow_x, graph_data, B, N).to(torch.device(\"cpu\"))\n",
    "                if num == 0:\n",
    "                    all_predict_value = predict_value\n",
    "                    all_y_true = data[\"flow_y\"]\n",
    "                else:\n",
    "                    all_predict_value = torch.cat([all_predict_value, predict_value], dim=0)\n",
    "                    all_y_true =torch.cat([all_y_true, data[\"flow_y\"]], dim=0)\n",
    "                \n",
    "                num += 1\n",
    "      
    "       rmse = Metrics.masked_rmse_np(test_data.recover_data(test_data.flow_norm[0],test_data.flow_norm[1],all_y_true),test_data.recover_data(test_data.flow_norm[0],test_data.flow_norm[1],all_predict_value), 0)\n",
    "        mape = Metrics.masked_mape_np(test_data.recover_data(test_data.flow_norm[0],test_data.flow_norm[1],all_y_true),test_data.recover_data(test_data.flow_norm[0],test_data.flow_norm[1],all_predict_value), 0)\n",
    "        r2 = Metrics.r2_test(test_data.recover_data(test_data.flow_norm[0],test_data.flow_norm[1],all_y_true),test_data.recover_data(test_data.flow_norm[0],test_data.flow_norm[1],all_predict_value))\n",
    "        var = Metrics.explained_variance_test(test_data.recover_data(test_data.flow_norm[0],test_data.flow_norm[1],all_y_true),test_data.recover_data(test_data.flow_norm[0],test_data.flow_norm[1],all_predict_value))\n",
    "        \n",
    "        print(\" rmse: {:02.4f}, mape: {:02.4f}, r2: {:02.4f}, var: {:02.4f}\".format( rmse, mape, r2, var)) \n",
    "    \n",
    "                       \n",
    "                    \n",
    "if __name__ == '__main__':\n",
    "    main()\n",
    " \n",
    "\n",
    "    \n",
    "    "
   ]
  }
 ],
 "metadata": {
  "kernelspec": {
   "display_name": "Python 3.8.13 ('zhao_pyg': conda)",
   "language": "python",
   "name": "python3"
  },
  "language_info": {
   "codemirror_mode": {
    "name": "ipython",
    "version": 3
   },
   "file_extension": ".py",
   "mimetype": "text/x-python",
   "name": "python",
   "nbconvert_exporter": "python",
   "pygments_lexer": "ipython3",
   "version": "3.8.13"
  },
  "orig_nbformat": 4,
  "vscode": {
   "interpreter": {
    "hash": "3b6cfc6f2387ccdf5ec0247d13a630772f643ab1e14c3ba208111fae587134de"
   }
  }
 },
 "nbformat": 4,
 "nbformat_minor": 2
}
